{
 "cells": [
  {
   "cell_type": "code",
   "execution_count": 2,
   "metadata": {},
   "outputs": [],
   "source": [
    "import pandas as pd\n",
    "import re"
   ]
  },
  {
   "cell_type": "code",
   "execution_count": 3,
   "metadata": {},
   "outputs": [
    {
     "data": {
      "text/html": [
       "<div>\n",
       "<style scoped>\n",
       "    .dataframe tbody tr th:only-of-type {\n",
       "        vertical-align: middle;\n",
       "    }\n",
       "\n",
       "    .dataframe tbody tr th {\n",
       "        vertical-align: top;\n",
       "    }\n",
       "\n",
       "    .dataframe thead th {\n",
       "        text-align: right;\n",
       "    }\n",
       "</style>\n",
       "<table border=\"1\" class=\"dataframe\">\n",
       "  <thead>\n",
       "    <tr style=\"text-align: right;\">\n",
       "      <th></th>\n",
       "      <th>Unnamed: 0</th>\n",
       "      <th>job_link</th>\n",
       "      <th>job_skills</th>\n",
       "      <th>job_summary</th>\n",
       "      <th>job_title</th>\n",
       "      <th>company</th>\n",
       "      <th>city</th>\n",
       "      <th>state</th>\n",
       "      <th>first_seen</th>\n",
       "    </tr>\n",
       "  </thead>\n",
       "  <tbody>\n",
       "    <tr>\n",
       "      <th>0</th>\n",
       "      <td>0</td>\n",
       "      <td>https://www.linkedin.com/jobs/view/housekeeper...</td>\n",
       "      <td>building custodial services, cleaning, janitor...</td>\n",
       "      <td>Department:\\nBuilding Custodial Services\\nSala...</td>\n",
       "      <td>Housekeeper I - PT</td>\n",
       "      <td>Jacksonville State University</td>\n",
       "      <td>Metro Jacksonville</td>\n",
       "      <td>NaN</td>\n",
       "      <td>2024-01-12</td>\n",
       "    </tr>\n",
       "    <tr>\n",
       "      <th>1</th>\n",
       "      <td>1</td>\n",
       "      <td>https://www.linkedin.com/jobs/view/assistant-g...</td>\n",
       "      <td>customer service, restaurant management, food ...</td>\n",
       "      <td>Summary Of Key Responsibilities\\nThis position...</td>\n",
       "      <td>Assistant General Manager - Huntington 4131</td>\n",
       "      <td>Ruby Tuesday</td>\n",
       "      <td>Barboursville</td>\n",
       "      <td>WV</td>\n",
       "      <td>2024-01-13</td>\n",
       "    </tr>\n",
       "    <tr>\n",
       "      <th>2</th>\n",
       "      <td>2</td>\n",
       "      <td>https://www.linkedin.com/jobs/view/school-base...</td>\n",
       "      <td>applied behavior analysis (aba), data analysis...</td>\n",
       "      <td>Make a difference every day by joining CCRES a...</td>\n",
       "      <td>School-based Behavior Analyst</td>\n",
       "      <td>CCRES Educational and Behavioral Health Services</td>\n",
       "      <td>Boyertown</td>\n",
       "      <td>PA</td>\n",
       "      <td>2024-01-13</td>\n",
       "    </tr>\n",
       "    <tr>\n",
       "      <th>3</th>\n",
       "      <td>3</td>\n",
       "      <td>https://www.linkedin.com/jobs/view/electrical-...</td>\n",
       "      <td>electrical engineering, project controls, sche...</td>\n",
       "      <td>Requisition ID: 271524\\nRelocation Authorized:...</td>\n",
       "      <td>Electrical Deputy Engineering Group Supervisor</td>\n",
       "      <td>Energy Jobline</td>\n",
       "      <td>Ogden</td>\n",
       "      <td>UT</td>\n",
       "      <td>2024-01-12</td>\n",
       "    </tr>\n",
       "    <tr>\n",
       "      <th>4</th>\n",
       "      <td>4</td>\n",
       "      <td>https://www.linkedin.com/jobs/view/electrical-...</td>\n",
       "      <td>electrical assembly, point to point wiring, st...</td>\n",
       "      <td>Job Description\\nProduction Specialist\\nElectr...</td>\n",
       "      <td>Electrical Assembly Lead</td>\n",
       "      <td>Sanmina</td>\n",
       "      <td>Pleasant Prairie</td>\n",
       "      <td>WI</td>\n",
       "      <td>2024-01-12</td>\n",
       "    </tr>\n",
       "  </tbody>\n",
       "</table>\n",
       "</div>"
      ],
      "text/plain": [
       "   Unnamed: 0                                           job_link  \\\n",
       "0           0  https://www.linkedin.com/jobs/view/housekeeper...   \n",
       "1           1  https://www.linkedin.com/jobs/view/assistant-g...   \n",
       "2           2  https://www.linkedin.com/jobs/view/school-base...   \n",
       "3           3  https://www.linkedin.com/jobs/view/electrical-...   \n",
       "4           4  https://www.linkedin.com/jobs/view/electrical-...   \n",
       "\n",
       "                                          job_skills  \\\n",
       "0  building custodial services, cleaning, janitor...   \n",
       "1  customer service, restaurant management, food ...   \n",
       "2  applied behavior analysis (aba), data analysis...   \n",
       "3  electrical engineering, project controls, sche...   \n",
       "4  electrical assembly, point to point wiring, st...   \n",
       "\n",
       "                                         job_summary  \\\n",
       "0  Department:\\nBuilding Custodial Services\\nSala...   \n",
       "1  Summary Of Key Responsibilities\\nThis position...   \n",
       "2  Make a difference every day by joining CCRES a...   \n",
       "3  Requisition ID: 271524\\nRelocation Authorized:...   \n",
       "4  Job Description\\nProduction Specialist\\nElectr...   \n",
       "\n",
       "                                        job_title  \\\n",
       "0                              Housekeeper I - PT   \n",
       "1     Assistant General Manager - Huntington 4131   \n",
       "2                   School-based Behavior Analyst   \n",
       "3  Electrical Deputy Engineering Group Supervisor   \n",
       "4                        Electrical Assembly Lead   \n",
       "\n",
       "                                            company                city state  \\\n",
       "0                     Jacksonville State University  Metro Jacksonville   NaN   \n",
       "1                                      Ruby Tuesday       Barboursville    WV   \n",
       "2  CCRES Educational and Behavioral Health Services           Boyertown    PA   \n",
       "3                                    Energy Jobline               Ogden    UT   \n",
       "4                                           Sanmina    Pleasant Prairie    WI   \n",
       "\n",
       "   first_seen  \n",
       "0  2024-01-12  \n",
       "1  2024-01-13  \n",
       "2  2024-01-13  \n",
       "3  2024-01-12  \n",
       "4  2024-01-12  "
      ]
     },
     "execution_count": 3,
     "metadata": {},
     "output_type": "execute_result"
    }
   ],
   "source": [
    "# Import data\n",
    "df = pd.read_csv('linkedin_job_all.csv')\n",
    "df.head()"
   ]
  },
  {
   "cell_type": "code",
   "execution_count": 4,
   "metadata": {},
   "outputs": [
    {
     "data": {
      "text/plain": [
       "290"
      ]
     },
     "execution_count": 4,
     "metadata": {},
     "output_type": "execute_result"
    }
   ],
   "source": [
    "# Distinct values\n",
    "df['state'].nunique()\n",
    "# Total: 290 states in and out of USA"
   ]
  },
  {
   "cell_type": "code",
   "execution_count": 5,
   "metadata": {},
   "outputs": [
    {
     "data": {
      "text/plain": [
       "81.87"
      ]
     },
     "execution_count": 5,
     "metadata": {},
     "output_type": "execute_result"
    }
   ],
   "source": [
    "# Calculte rows with state in US\n",
    "\n",
    "# 50 US state abbreviations\n",
    "state_ab = ['AL', 'AK', 'AZ', 'AR', 'CA', 'CO', 'CT', 'DE', 'FL', 'GA', \n",
    "            'HI', 'ID', 'IL', 'IN', 'IA', 'KS', 'KY', 'LA', 'ME', 'MD', \n",
    "            'MA', 'MI', 'MN', 'MS', 'MO', 'MT', 'NE', 'NV', 'NH', 'NJ', \n",
    "            'NM', 'NY', 'NC', 'ND', 'OH', 'OK', 'OR', 'PA', 'RI', 'SC', \n",
    "            'SD', 'TN', 'TX', 'UT', 'VT', 'VA', 'WA', 'WV', 'WI', 'WY']\n",
    "\n",
    "# Convert 'state' column to upper case and remove leading/trailing whitespace\n",
    "df['state'] = df['state'].str.upper().str.strip()\n",
    "\n",
    "num_rows = df['state'].isin(state_ab).sum()\n",
    "percent = num_rows/len(df)*100\n",
    "round(percent, 2)"
   ]
  },
  {
   "cell_type": "code",
   "execution_count": 6,
   "metadata": {},
   "outputs": [
    {
     "data": {
      "text/plain": [
       "1.41"
      ]
     },
     "execution_count": 6,
     "metadata": {},
     "output_type": "execute_result"
    }
   ],
   "source": [
    "# Calculte rows with missing state values\n",
    "mis_rows = df['state'].isnull().sum()\n",
    "mis_percent = mis_rows/len(df)*100\n",
    "round(mis_percent, 2)"
   ]
  },
  {
   "cell_type": "code",
   "execution_count": 7,
   "metadata": {},
   "outputs": [
    {
     "data": {
      "text/plain": [
       "16.719999999999995"
      ]
     },
     "execution_count": 7,
     "metadata": {},
     "output_type": "execute_result"
    }
   ],
   "source": [
    "# Calculte rows with states out of US\n",
    "100-round(percent, 2)-round(mis_percent, 2)"
   ]
  },
  {
   "cell_type": "code",
   "execution_count": 8,
   "metadata": {},
   "outputs": [
    {
     "data": {
      "text/plain": [
       "564796"
      ]
     },
     "execution_count": 8,
     "metadata": {},
     "output_type": "execute_result"
    }
   ],
   "source": [
    "df['job_title'].nunique()"
   ]
  },
  {
   "cell_type": "code",
   "execution_count": 9,
   "metadata": {},
   "outputs": [
    {
     "data": {
      "text/plain": [
       "[('LEAD SALES ASSOCIATE-FT', 7315),\n",
       " ('Shift Manager', 5500),\n",
       " ('First Year Tax Professional', 5351),\n",
       " ('Customer Service Representative', 5164),\n",
       " ('Assistant Manager', 5066),\n",
       " ('LEAD SALES ASSOCIATE-PT', 4911),\n",
       " ('Store Manager', 4739),\n",
       " ('CUSTOMER SERVICE REPRESENTATIVE', 4211),\n",
       " ('Registered Nurse', 4142),\n",
       " ('Hourly Supervisor & Training', 2883),\n",
       " ('Host', 2861),\n",
       " ('Travel Allied Health Professional - CT Technologist', 2717),\n",
       " ('Account Executive', 2614),\n",
       " ('Senior Accountant', 2493),\n",
       " ('Restaurant Manager', 2279),\n",
       " ('Veterinarian', 2192),\n",
       " ('Hourly Supervisor and Training', 2179),\n",
       " ('Executive Assistant', 2020),\n",
       " ('Assistant General Manager', 1998),\n",
       " ('OPERATIONS ASSISTANT MANAGER', 1960)]"
      ]
     },
     "execution_count": 9,
     "metadata": {},
     "output_type": "execute_result"
    }
   ],
   "source": [
    "# Count job titles frequency\n",
    "from collections import Counter\n",
    "counts = Counter(df['job_title'])\n",
    "\n",
    "# Top20 titles based on frequency\n",
    "top20_titles = counts.most_common(20)\n",
    "top20_titles"
   ]
  },
  {
   "cell_type": "code",
   "execution_count": 10,
   "metadata": {},
   "outputs": [
    {
     "data": {
      "text/plain": [
       "149990"
      ]
     },
     "execution_count": 10,
     "metadata": {},
     "output_type": "execute_result"
    }
   ],
   "source": [
    "# Top100 titles\n",
    "top_titles = counts.most_common(100)\n",
    "top100_titles = [title for title, counts in top_titles]  # Extract top100 titles\n",
    "total = sum([counts for title, counts in top_titles])\n",
    "total"
   ]
  },
  {
   "cell_type": "code",
   "execution_count": 11,
   "metadata": {},
   "outputs": [
    {
     "data": {
      "text/html": [
       "<div>\n",
       "<style scoped>\n",
       "    .dataframe tbody tr th:only-of-type {\n",
       "        vertical-align: middle;\n",
       "    }\n",
       "\n",
       "    .dataframe tbody tr th {\n",
       "        vertical-align: top;\n",
       "    }\n",
       "\n",
       "    .dataframe thead th {\n",
       "        text-align: right;\n",
       "    }\n",
       "</style>\n",
       "<table border=\"1\" class=\"dataframe\">\n",
       "  <thead>\n",
       "    <tr style=\"text-align: right;\">\n",
       "      <th></th>\n",
       "      <th>state</th>\n",
       "      <th>job_title</th>\n",
       "    </tr>\n",
       "  </thead>\n",
       "  <tbody>\n",
       "    <tr>\n",
       "      <th>13</th>\n",
       "      <td>ND</td>\n",
       "      <td>Travel Allied Health Professional - CT Technol...</td>\n",
       "    </tr>\n",
       "    <tr>\n",
       "      <th>19</th>\n",
       "      <td>OK</td>\n",
       "      <td>Assistant General Manager</td>\n",
       "    </tr>\n",
       "    <tr>\n",
       "      <th>24</th>\n",
       "      <td>CO</td>\n",
       "      <td>Accounting Manager</td>\n",
       "    </tr>\n",
       "    <tr>\n",
       "      <th>27</th>\n",
       "      <td>KY</td>\n",
       "      <td>LEAD SALES ASSOCIATE-FT</td>\n",
       "    </tr>\n",
       "    <tr>\n",
       "      <th>29</th>\n",
       "      <td>VA</td>\n",
       "      <td>Automotive Technician</td>\n",
       "    </tr>\n",
       "  </tbody>\n",
       "</table>\n",
       "</div>"
      ],
      "text/plain": [
       "   state                                          job_title\n",
       "13    ND  Travel Allied Health Professional - CT Technol...\n",
       "19    OK                          Assistant General Manager\n",
       "24    CO                                 Accounting Manager\n",
       "27    KY                            LEAD SALES ASSOCIATE-FT\n",
       "29    VA                              Automotive Technician"
      ]
     },
     "execution_count": 11,
     "metadata": {},
     "output_type": "execute_result"
    }
   ],
   "source": [
    "# Filter out rows with 50 US state abbreviations and top100 titles; only keep the columns 'state' and 'job_title'\n",
    "df_filtered = df[df['state'].isin(state_ab) & df['job_title'].isin(top100_titles)]\n",
    "df_filtered = df_filtered[['state', 'job_title']]\n",
    "df_filtered.head()"
   ]
  },
  {
   "cell_type": "code",
   "execution_count": 12,
   "metadata": {},
   "outputs": [
    {
     "data": {
      "text/plain": [
       "133489"
      ]
     },
     "execution_count": 12,
     "metadata": {},
     "output_type": "execute_result"
    }
   ],
   "source": [
    "len(df_filtered)"
   ]
  },
  {
   "cell_type": "code",
   "execution_count": 13,
   "metadata": {},
   "outputs": [],
   "source": [
    "df_filtered.to_csv('data_cleaning_title_state.csv')"
   ]
  }
 ],
 "metadata": {
  "kernelspec": {
   "display_name": "base",
   "language": "python",
   "name": "python3"
  },
  "language_info": {
   "codemirror_mode": {
    "name": "ipython",
    "version": 3
   },
   "file_extension": ".py",
   "mimetype": "text/x-python",
   "name": "python",
   "nbconvert_exporter": "python",
   "pygments_lexer": "ipython3",
   "version": "3.9.18"
  }
 },
 "nbformat": 4,
 "nbformat_minor": 2
}
