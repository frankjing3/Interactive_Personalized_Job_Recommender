{
 "cells": [
  {
   "cell_type": "code",
   "execution_count": 1,
   "id": "93f0e783",
   "metadata": {},
   "outputs": [],
   "source": [
    "import pandas as pd"
   ]
  },
  {
   "cell_type": "code",
   "execution_count": 4,
   "id": "8e1dd169",
   "metadata": {},
   "outputs": [
    {
     "data": {
      "text/html": [
       "<div>\n",
       "<style scoped>\n",
       "    .dataframe tbody tr th:only-of-type {\n",
       "        vertical-align: middle;\n",
       "    }\n",
       "\n",
       "    .dataframe tbody tr th {\n",
       "        vertical-align: top;\n",
       "    }\n",
       "\n",
       "    .dataframe thead th {\n",
       "        text-align: right;\n",
       "    }\n",
       "</style>\n",
       "<table border=\"1\" class=\"dataframe\">\n",
       "  <thead>\n",
       "    <tr style=\"text-align: right;\">\n",
       "      <th></th>\n",
       "      <th>Unnamed: 0</th>\n",
       "      <th>id</th>\n",
       "      <th>job_link</th>\n",
       "      <th>job_skills_new</th>\n",
       "    </tr>\n",
       "  </thead>\n",
       "  <tbody>\n",
       "    <tr>\n",
       "      <th>0</th>\n",
       "      <td>0</td>\n",
       "      <td>1</td>\n",
       "      <td>https://www.linkedin.com/jobs/view/housekeeper...</td>\n",
       "      <td>building custodial services</td>\n",
       "    </tr>\n",
       "    <tr>\n",
       "      <th>1</th>\n",
       "      <td>1</td>\n",
       "      <td>2</td>\n",
       "      <td>https://www.linkedin.com/jobs/view/housekeeper...</td>\n",
       "      <td>cleaning</td>\n",
       "    </tr>\n",
       "    <tr>\n",
       "      <th>2</th>\n",
       "      <td>2</td>\n",
       "      <td>3</td>\n",
       "      <td>https://www.linkedin.com/jobs/view/housekeeper...</td>\n",
       "      <td>janitorial services</td>\n",
       "    </tr>\n",
       "    <tr>\n",
       "      <th>3</th>\n",
       "      <td>3</td>\n",
       "      <td>4</td>\n",
       "      <td>https://www.linkedin.com/jobs/view/housekeeper...</td>\n",
       "      <td>materials handling</td>\n",
       "    </tr>\n",
       "    <tr>\n",
       "      <th>4</th>\n",
       "      <td>4</td>\n",
       "      <td>5</td>\n",
       "      <td>https://www.linkedin.com/jobs/view/housekeeper...</td>\n",
       "      <td>housekeeping</td>\n",
       "    </tr>\n",
       "  </tbody>\n",
       "</table>\n",
       "</div>"
      ],
      "text/plain": [
       "   Unnamed: 0  id                                           job_link  \\\n",
       "0           0   1  https://www.linkedin.com/jobs/view/housekeeper...   \n",
       "1           1   2  https://www.linkedin.com/jobs/view/housekeeper...   \n",
       "2           2   3  https://www.linkedin.com/jobs/view/housekeeper...   \n",
       "3           3   4  https://www.linkedin.com/jobs/view/housekeeper...   \n",
       "4           4   5  https://www.linkedin.com/jobs/view/housekeeper...   \n",
       "\n",
       "                job_skills_new  \n",
       "0  building custodial services  \n",
       "1                     cleaning  \n",
       "2          janitorial services  \n",
       "3           materials handling  \n",
       "4                 housekeeping  "
      ]
     },
     "execution_count": 4,
     "metadata": {},
     "output_type": "execute_result"
    }
   ],
   "source": [
    "#Load data\n",
    "df = pd.read_csv('job_skills_detail.csv')\n",
    "df.head()"
   ]
  },
  {
   "cell_type": "code",
   "execution_count": 5,
   "id": "31b7c0f5",
   "metadata": {},
   "outputs": [
    {
     "name": "stdout",
     "output_type": "stream",
     "text": [
      "<class 'pandas.core.frame.DataFrame'>\n",
      "RangeIndex: 26924758 entries, 0 to 26924757\n",
      "Data columns (total 4 columns):\n",
      " #   Column          Dtype \n",
      "---  ------          ----- \n",
      " 0   Unnamed: 0      int64 \n",
      " 1   id              int64 \n",
      " 2   job_link        object\n",
      " 3   job_skills_new  object\n",
      "dtypes: int64(2), object(2)\n",
      "memory usage: 821.7+ MB\n"
     ]
    }
   ],
   "source": [
    "df.info()"
   ]
  },
  {
   "cell_type": "code",
   "execution_count": 8,
   "id": "c5b9dc81",
   "metadata": {},
   "outputs": [
    {
     "data": {
      "text/plain": [
       "2739208"
      ]
     },
     "execution_count": 8,
     "metadata": {},
     "output_type": "execute_result"
    }
   ],
   "source": [
    "#Distinct values\n",
    "df['job_skills_new'].nunique()"
   ]
  },
  {
   "cell_type": "code",
   "execution_count": 15,
   "id": "3117c0f9",
   "metadata": {},
   "outputs": [
    {
     "data": {
      "text/plain": [
       "[('communication', 370142),\n",
       " ('customer service', 278108),\n",
       " ('teamwork', 227612),\n",
       " ('communication skills', 195965),\n",
       " ('leadership', 185194),\n",
       " ('problem solving', 149040),\n",
       " ('time management', 142918),\n",
       " ('attention to detail', 133985),\n",
       " ('problemsolving', 129338),\n",
       " ('project management', 121567),\n",
       " ('interpersonal skills', 100276),\n",
       " ('patient care', 99925),\n",
       " ('sales', 93032),\n",
       " ('nursing', 88015),\n",
       " ('collaboration', 87117),\n",
       " ('training', 83658),\n",
       " ('data analysis', 81966),\n",
       " ('microsoft office suite', 75548),\n",
       " ('organizational skills', 75282),\n",
       " ('inventory management', 71910)]"
      ]
     },
     "execution_count": 15,
     "metadata": {},
     "output_type": "execute_result"
    }
   ],
   "source": [
    "#Count job skills frequency\n",
    "from collections import Counter\n",
    "counts = Counter(df['job_skills_new'])\n",
    "\n",
    "#Top20 skills based on frequency\n",
    "top20_skills = counts.most_common(20)\n",
    "top20_skills"
   ]
  },
  {
   "cell_type": "code",
   "execution_count": 51,
   "id": "2e0459b2",
   "metadata": {},
   "outputs": [
    {
     "data": {
      "text/plain": [
       "('licensed marriage and family therapist', 239)"
      ]
     },
     "execution_count": 51,
     "metadata": {},
     "output_type": "execute_result"
    }
   ],
   "source": [
    "#Top 10000th skill\n",
    "counts.most_common(10000)[-1]"
   ]
  },
  {
   "cell_type": "code",
   "execution_count": 50,
   "id": "e3ae8934",
   "metadata": {},
   "outputs": [
    {
     "data": {
      "text/plain": [
       "0.6489179958460537"
      ]
     },
     "execution_count": 50,
     "metadata": {},
     "output_type": "execute_result"
    }
   ],
   "source": [
    "#Filter the top 10000 skills\n",
    "top_skills = counts.most_common(10000)\n",
    "total = sum([counts for skill, counts in top_skills])\n",
    "percent = total/len(df)\n",
    "percent"
   ]
  },
  {
   "cell_type": "code",
   "execution_count": 31,
   "id": "b53cc77d",
   "metadata": {},
   "outputs": [],
   "source": [
    "#Stemming: reduce words to their basic form or stem\n",
    "from nltk.stem.snowball import EnglishStemmer\n",
    "\n",
    "def skills_stem(text): \n",
    "    if isinstance(text, str):\n",
    "        stemmer = EnglishStemmer() \n",
    "        words = text.split()\n",
    "        stem_words = [stemmer.stem(word) for word in words]\n",
    "        return \" \".join(stem_words)\n",
    "    else:\n",
    "        return text"
   ]
  },
  {
   "cell_type": "code",
   "execution_count": 32,
   "id": "5ca4e8de",
   "metadata": {},
   "outputs": [
    {
     "data": {
      "text/plain": [
       "0    build custodi servic\n",
       "1                   clean\n",
       "2         janitori servic\n",
       "3            materi handl\n",
       "4               housekeep\n",
       "Name: job_skills_stem, dtype: object"
      ]
     },
     "execution_count": 32,
     "metadata": {},
     "output_type": "execute_result"
    }
   ],
   "source": [
    "df['job_skills_stem'] = df['job_skills_new'].apply(skills_stem)\n",
    "df['job_skills_stem'].head()"
   ]
  },
  {
   "cell_type": "code",
   "execution_count": 33,
   "id": "bb571495",
   "metadata": {},
   "outputs": [
    {
     "data": {
      "text/plain": [
       "2503112"
      ]
     },
     "execution_count": 33,
     "metadata": {},
     "output_type": "execute_result"
    }
   ],
   "source": [
    "#Distinct values\n",
    "df['job_skills_stem'].nunique()"
   ]
  },
  {
   "cell_type": "code",
   "execution_count": 35,
   "id": "694b9f75",
   "metadata": {},
   "outputs": [
    {
     "data": {
      "text/plain": [
       "[('communic', 376446),\n",
       " ('custom servic', 278605),\n",
       " ('teamwork', 228057),\n",
       " ('communic skill', 196656),\n",
       " ('leadership', 185372),\n",
       " ('problem solv', 149256),\n",
       " ('time manag', 143100),\n",
       " ('attent to detail', 134365),\n",
       " ('problemsolv', 129563),\n",
       " ('project manag', 122716),\n",
       " ('interperson skill', 100393),\n",
       " ('patient care', 99994),\n",
       " ('sale', 93162),\n",
       " ('nurs', 90505),\n",
       " ('collabor', 89457),\n",
       " ('train', 84515),\n",
       " ('data analysi', 82051),\n",
       " ('microsoft offic suit', 75826),\n",
       " ('organiz skill', 75383),\n",
       " ('inventori manag', 72034)]"
      ]
     },
     "execution_count": 35,
     "metadata": {},
     "output_type": "execute_result"
    }
   ],
   "source": [
    "#Count job skills stem frequency\n",
    "counts_stem = Counter(df['job_skills_stem'])\n",
    "\n",
    "#Top20 skills based on frequency\n",
    "top20_skills_stem = counts_stem.most_common(20)\n",
    "top20_skills_stem"
   ]
  },
  {
   "cell_type": "code",
   "execution_count": 37,
   "id": "2f6867fd",
   "metadata": {},
   "outputs": [
    {
     "data": {
      "text/plain": [
       "('administr paperwork', 238)"
      ]
     },
     "execution_count": 37,
     "metadata": {},
     "output_type": "execute_result"
    }
   ],
   "source": [
    "#Filter the top 10000th skill stem\n",
    "counts_stem.most_common(10000)[-1]"
   ]
  },
  {
   "cell_type": "code",
   "execution_count": 52,
   "id": "e89caa12",
   "metadata": {},
   "outputs": [
    {
     "data": {
      "text/plain": [
       "0.66967576830217"
      ]
     },
     "execution_count": 52,
     "metadata": {},
     "output_type": "execute_result"
    }
   ],
   "source": [
    "#Filter the top 10000 skills\n",
    "top_skills_stem = counts_stem.most_common(10000)\n",
    "total_stem = sum([counts for skill, counts in top_skills_stem])\n",
    "percent_stem = total_stem/len(df)\n",
    "percent_stem"
   ]
  },
  {
   "cell_type": "code",
   "execution_count": 55,
   "id": "3823e0e1",
   "metadata": {},
   "outputs": [
    {
     "data": {
      "text/plain": [
       "0.5147729461486711"
      ]
     },
     "execution_count": 55,
     "metadata": {},
     "output_type": "execute_result"
    }
   ],
   "source": [
    "#Filter the top 2000 skills\n",
    "top2000_stem = counts_stem.most_common(2000)\n",
    "total2000_stem = sum([counts for skill, counts in top2000_stem])\n",
    "percent2000_stem = total2000_stem/len(df)\n",
    "percent2000_stem"
   ]
  }
 ],
 "metadata": {
  "kernelspec": {
   "display_name": "Python 3 (ipykernel)",
   "language": "python",
   "name": "python3"
  },
  "language_info": {
   "codemirror_mode": {
    "name": "ipython",
    "version": 3
   },
   "file_extension": ".py",
   "mimetype": "text/x-python",
   "name": "python",
   "nbconvert_exporter": "python",
   "pygments_lexer": "ipython3",
   "version": "3.9.18"
  }
 },
 "nbformat": 4,
 "nbformat_minor": 5
}
